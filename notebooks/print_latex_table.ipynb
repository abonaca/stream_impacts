{
 "cells": [
  {
   "cell_type": "code",
   "execution_count": 1,
   "metadata": {},
   "outputs": [],
   "source": [
    "import numpy as np\n",
    "import matplotlib as mpl\n",
    "import matplotlib.pyplot as plt\n",
    "%matplotlib inline\n",
    "\n",
    "import astropy.coordinates as coord\n",
    "from astropy.table import Table\n",
    "import astropy.units as u\n",
    "from astropy.io import fits\n",
    "\n",
    "import gala.coordinates as gc\n",
    "import gala.potential as gp\n",
    "import gala.dynamics as gd"
   ]
  },
  {
   "cell_type": "code",
   "execution_count": 2,
   "metadata": {},
   "outputs": [],
   "source": [
    "plt.style.use('notebook')"
   ]
  },
  {
   "cell_type": "markdown",
   "metadata": {},
   "source": [
    "Here we'll see how to automatically generate data for a latex table. One of the tables we want to include in the paper are the present-day positions and velocities of the simulated dark matter particles. Let's first read the table:"
   ]
  },
  {
   "cell_type": "code",
   "execution_count": 3,
   "metadata": {},
   "outputs": [],
   "source": [
    "tdm = Table(fits.getdata('../data/GSE_DM.fits'))"
   ]
  },
  {
   "cell_type": "code",
   "execution_count": 9,
   "metadata": {},
   "outputs": [
    {
     "data": {
      "text/html": [
       "<i>Table length=21545500</i>\n",
       "<table id=\"table140354647684488\" class=\"table-striped table-bordered table-condensed\">\n",
       "<thead><tr><th>X_gal</th><th>Y_gal</th><th>Z_gal</th><th>Vx_gal</th><th>Vy_gal</th><th>Vz_gal</th></tr></thead>\n",
       "<thead><tr><th>float32</th><th>float32</th><th>float32</th><th>float32</th><th>float32</th><th>float32</th></tr></thead>\n",
       "<tr><td>-641.7788</td><td>141.49406</td><td>-183.97186</td><td>-65.511116</td><td>-8.441251</td><td>48.682896</td></tr>\n",
       "<tr><td>47.67679</td><td>22.27179</td><td>84.15445</td><td>69.719215</td><td>-61.422874</td><td>3.4637668</td></tr>\n",
       "<tr><td>252.20497</td><td>-118.0045</td><td>133.71234</td><td>66.55214</td><td>42.793537</td><td>-40.005566</td></tr>\n",
       "<tr><td>-89.37547</td><td>48.454453</td><td>-100.51599</td><td>-162.35555</td><td>-9.586988</td><td>-58.69164</td></tr>\n",
       "<tr><td>-923.2537</td><td>311.52368</td><td>-207.74084</td><td>-52.966892</td><td>32.623882</td><td>-84.48949</td></tr>\n",
       "<tr><td>-20.237411</td><td>19.343277</td><td>-29.004517</td><td>-102.44625</td><td>71.465645</td><td>-40.213554</td></tr>\n",
       "<tr><td>235.41873</td><td>42.179565</td><td>3.0851746</td><td>-31.852486</td><td>78.42692</td><td>-69.01593</td></tr>\n",
       "<tr><td>-218.46303</td><td>742.0701</td><td>-152.4661</td><td>7.211487</td><td>118.12472</td><td>-11.685992</td></tr>\n",
       "<tr><td>5.477768</td><td>7.0532074</td><td>-1.3725739</td><td>-247.22664</td><td>-12.10263</td><td>-118.69226</td></tr>\n",
       "<tr><td>-1101.3303</td><td>11763.627</td><td>2334.7764</td><td>-104.17072</td><td>46.74351</td><td>-73.47453</td></tr>\n",
       "<tr><td>...</td><td>...</td><td>...</td><td>...</td><td>...</td><td>...</td></tr>\n",
       "<tr><td>-122.499344</td><td>170.77034</td><td>6.882675</td><td>-84.51753</td><td>37.26353</td><td>30.548956</td></tr>\n",
       "<tr><td>-475.6922</td><td>326.28156</td><td>374.8281</td><td>-20.904343</td><td>14.447431</td><td>67.700005</td></tr>\n",
       "<tr><td>46.67363</td><td>-2.8174286</td><td>82.003525</td><td>49.208107</td><td>-34.265068</td><td>-30.034935</td></tr>\n",
       "<tr><td>-588.09106</td><td>-753.6321</td><td>-227.22174</td><td>-56.411865</td><td>-89.69395</td><td>-17.427048</td></tr>\n",
       "<tr><td>43.941544</td><td>32.43364</td><td>7.5436707</td><td>-88.56814</td><td>-49.176685</td><td>-82.9022</td></tr>\n",
       "<tr><td>-911.52606</td><td>294.50598</td><td>-125.21527</td><td>-69.87399</td><td>39.66412</td><td>-129.66441</td></tr>\n",
       "<tr><td>13.383163</td><td>-11.9539795</td><td>-120.816315</td><td>-166.63364</td><td>-64.96913</td><td>-43.39973</td></tr>\n",
       "<tr><td>-367.6645</td><td>490.58997</td><td>-653.6</td><td>-18.689653</td><td>-16.005686</td><td>-52.64836</td></tr>\n",
       "<tr><td>-84.20186</td><td>148.17033</td><td>-134.00955</td><td>-22.450855</td><td>-8.472635</td><td>43.85554</td></tr>\n",
       "<tr><td>-150.28542</td><td>81.019455</td><td>1.2360382</td><td>26.351347</td><td>-96.06688</td><td>12.600358</td></tr>\n",
       "</table>"
      ],
      "text/plain": [
       "<Table length=21545500>\n",
       "   X_gal       Y_gal       Z_gal      Vx_gal     Vy_gal     Vz_gal  \n",
       "  float32     float32     float32    float32    float32    float32  \n",
       "----------- ----------- ----------- ---------- ---------- ----------\n",
       "  -641.7788   141.49406  -183.97186 -65.511116  -8.441251  48.682896\n",
       "   47.67679    22.27179    84.15445  69.719215 -61.422874  3.4637668\n",
       "  252.20497   -118.0045   133.71234   66.55214  42.793537 -40.005566\n",
       "  -89.37547   48.454453  -100.51599 -162.35555  -9.586988  -58.69164\n",
       "  -923.2537   311.52368  -207.74084 -52.966892  32.623882  -84.48949\n",
       " -20.237411   19.343277  -29.004517 -102.44625  71.465645 -40.213554\n",
       "  235.41873   42.179565   3.0851746 -31.852486   78.42692  -69.01593\n",
       " -218.46303    742.0701   -152.4661   7.211487  118.12472 -11.685992\n",
       "   5.477768   7.0532074  -1.3725739 -247.22664  -12.10263 -118.69226\n",
       " -1101.3303   11763.627   2334.7764 -104.17072   46.74351  -73.47453\n",
       "        ...         ...         ...        ...        ...        ...\n",
       "-122.499344   170.77034    6.882675  -84.51753   37.26353  30.548956\n",
       "  -475.6922   326.28156    374.8281 -20.904343  14.447431  67.700005\n",
       "   46.67363  -2.8174286   82.003525  49.208107 -34.265068 -30.034935\n",
       " -588.09106   -753.6321  -227.22174 -56.411865  -89.69395 -17.427048\n",
       "  43.941544    32.43364   7.5436707  -88.56814 -49.176685   -82.9022\n",
       " -911.52606   294.50598  -125.21527  -69.87399   39.66412 -129.66441\n",
       "  13.383163 -11.9539795 -120.816315 -166.63364  -64.96913  -43.39973\n",
       "  -367.6645   490.58997      -653.6 -18.689653 -16.005686  -52.64836\n",
       "  -84.20186   148.17033  -134.00955 -22.450855  -8.472635   43.85554\n",
       " -150.28542   81.019455   1.2360382  26.351347  -96.06688  12.600358"
      ]
     },
     "execution_count": 9,
     "metadata": {},
     "output_type": "execute_result"
    }
   ],
   "source": [
    "tdm"
   ]
  },
  {
   "cell_type": "markdown",
   "metadata": {},
   "source": [
    "If we were to construct the table by hand, it would look something like this:\n",
    "\n",
    "\\begin{deluxetable}{c c c c c c}\n",
    "\\tablehead{\n",
    "$X$ & $Y$ & $Z$ & $V_X$ & $V_Y$ & $V_Z$ \\\\\n",
    "kpc & kpc & kpc & $\\rm km\\,s^{-1}$ & $\\rm km\\,s^{-1}$ & $\\rm km\\,s^{-1}$\n",
    "}\n",
    "\\decimals\n",
    "\\setlength{\\tabcolsep}{3pt}\n",
    "\\startdata\n",
    "-641.8 & 141.5 & -184.0 & -65.5 & -8.4 & 48.7 \\\\ \n",
    "47.7 & 22.3 & 84.2 & 69.7 & -61.4 & 3.5 \\\\ \n",
    "252.2 & -118.0 & 133.7 & 66.6 & 42.8 & -40.0 \\\\ \n",
    "\\enddata\n",
    "\\caption{Present-day positions and velocities of simulated dark-matter particles in Galactocentric coordinates.}\n",
    "\\label{table:dm}\n",
    "\\end{deluxetable}"
   ]
  },
  {
   "cell_type": "markdown",
   "metadata": {},
   "source": [
    "This involves looking up positions of dark matter particles and typing them up manually in the table. This process can easily lead to typos and takes a lot of time. Fortunately, we can automatically generate a part of the table with data like this:"
   ]
  },
  {
   "cell_type": "code",
   "execution_count": 10,
   "metadata": {},
   "outputs": [],
   "source": [
    "Nrows = 3\n",
    "\n",
    "f = open('../data/table_dm.tex', 'w')\n",
    "for i in range(Nrows):\n",
    "    f.write('{:.1f} & {:.1f} & {:.1f} & {:.1f} & {:.1f} & {:.1f} \\\\\\\\ \\n'.format(tdm['X_gal'][i], tdm['Y_gal'][i], \n",
    "                                                                                 tdm['Z_gal'][i], tdm['Vx_gal'][i], \n",
    "                                                                                 tdm['Vy_gal'][i], tdm['Vz_gal'][i]))\n",
    "f.close()"
   ]
  },
  {
   "cell_type": "markdown",
   "metadata": {},
   "source": [
    "Let's see what this snippet does line by line:\n",
    "\n",
    "`Nrows = 3` -- set how many lines in the table we want\n",
    "\n",
    "`f = open('../data/table_dm.tex', 'w')` -- create a new file (or overwrite an existing file) table_dm.tex for writing in our data directory (you need to change this path to your system)\n",
    "\n",
    "`for i in range(Nrows):` -- what we'll do next is cycle through the first Nrows lines in the table and print its contents to the table. Since we are repeating the same action for all the lines, we'll use python's for command Nrows times\n",
    "\n",
    "`f.write('{:.1f} & ... \\\\\\\\ \\n'.format(tdm['X_gal'][i], ...` (snippet) -- this command actually writes to file everything between the quotation marks. So, we are constructing a string with 6 entries, one for each position / velocity component. \n",
    "\n",
    "In the snippet, we only have the first column, the X positions stored in column `tdm['X_gal']`. To have python print the first element of this column, we'd use this: `'{:}'.format(tdm['X_gal'][0])`. Because we want this to work for any element, not just the first one, we replace the index 0 with a changing index `i`, which is determined in the for loop: `'{:}'.format(tdm['X_gal'][i])`.\n",
    "\n",
    "Next, we can also tell python how to format this number by adding the format identifier after the colon: `'{:.1f}'` -- this tells python the number is a float `f` (that is a decimal point number), and to only keep one digit after the decimal point `.1`.\n",
    "\n",
    "Different entries are separated by `&`, as in any latex table. After the last entry we have `\\\\\\\\`, which will tell latex to start a new line. Compared to writing a table manually, these are 4 backslashes, instead of just 2. This is because a single backslash is a special escape character in python, so we need to tell it to actually print it by adding one additional backslash for every that we need. Then the line that actually prints out will have 2.\n",
    "\n",
    "`\\n` tells python to start a new line in the file it's writing.\n",
    "\n",
    "`f.close()` -- close the file"
   ]
  },
  {
   "cell_type": "markdown",
   "metadata": {},
   "source": [
    "A file `table_dm.tex` should appear in the data directory. First upload it to overleaf, and then you can write the table like this:\n",
    "\n",
    "\\begin{deluxetable}{c c c c c c}\n",
    "\\tablehead{\n",
    "$X$ & $Y$ & $Z$ & $V_X$ & $V_Y$ & $V_Z$ \\\\\n",
    "kpc & kpc & kpc & $\\rm km\\,s^{-1}$ & $\\rm km\\,s^{-1}$ & $\\rm km\\,s^{-1}$\n",
    "}\n",
    "\\decimals\n",
    "\\setlength{\\tabcolsep}{3pt}\n",
    "\\startdata\n",
    "\\input{table_dm.tex}\n",
    "\\enddata\n",
    "\\caption{Present-day positions and velocities of simulated dark-matter particles in Galactocentric coordinates.}\n",
    "\\label{table:dm}\n",
    "\\end{deluxetable}"
   ]
  },
  {
   "cell_type": "markdown",
   "metadata": {},
   "source": [
    "The structure of the table is the same, but instead of us looking up the numbers and typing them directly, we now just call the `input` command and insert the data we just printed out with python."
   ]
  },
  {
   "cell_type": "code",
   "execution_count": null,
   "metadata": {},
   "outputs": [],
   "source": []
  }
 ],
 "metadata": {
  "kernelspec": {
   "display_name": "Python 3",
   "language": "python",
   "name": "python3"
  },
  "language_info": {
   "codemirror_mode": {
    "name": "ipython",
    "version": 3
   },
   "file_extension": ".py",
   "mimetype": "text/x-python",
   "name": "python",
   "nbconvert_exporter": "python",
   "pygments_lexer": "ipython3",
   "version": "3.6.12"
  }
 },
 "nbformat": 4,
 "nbformat_minor": 2
}
